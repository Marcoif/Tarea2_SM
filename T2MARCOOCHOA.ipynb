{
 "cells": [
  {
   "cell_type": "markdown",
   "metadata": {},
   "source": [
    "# RESUMEN 1 #\n",
    "\n",
    "## Python has brought computer programming to a vast new audience##\n",
    "\n",
    "El resumen habla acerca de Guido van Rossum el cual tuvo una idea, era crear un lenguaje de programación para personas inexpertas y con necesidades basicas en el lenguaje. la idea principal era que este lenguaje fuera facil de leer,tener sus propios modulos de programación dependiendo de las necesidades que requiera cada usuario y la tercera cosa que buscó para su lenguaje fue un nombre corto y misterioso, con esto nació el lenguaje de programación más famoso en la actualidad.\n",
    "> ¿Qué hace python que otros no?\n",
    "+ facil de leer\n",
    "+ su nivel de complejidad depende de las necesidades de cada persona\n",
    "+ lenguaje mas utilizado en niveles basicos de proogramación \n",
    "\n",
    "En conclusión este resumen nos explica que es lo logro Guido con su idea pero en el mundo actual creó el lenguaje de programación más utilizado y que más ha revolucionado el mundo como lo conocemos.\n",
    "\n",
    "# RESUMEN 2 #\n",
    "\n",
    "## Why Python is so popular with developers: 3 reasons the language has exploded ##\n",
    "\n",
    "En este resumen \n",
    "\n"
   ]
  },
  {
   "cell_type": "code",
   "execution_count": null,
   "metadata": {},
   "outputs": [],
   "source": []
  }
 ],
 "metadata": {
  "kernelspec": {
   "display_name": "Python 3",
   "language": "python",
   "name": "python3"
  },
  "language_info": {
   "codemirror_mode": {
    "name": "ipython",
    "version": 3
   },
   "file_extension": ".py",
   "mimetype": "text/x-python",
   "name": "python",
   "nbconvert_exporter": "python",
   "pygments_lexer": "ipython3",
   "version": "3.7.3"
  }
 },
 "nbformat": 4,
 "nbformat_minor": 2
}
