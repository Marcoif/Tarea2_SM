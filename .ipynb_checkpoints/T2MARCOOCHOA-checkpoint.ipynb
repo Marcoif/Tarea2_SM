{
 "cells": [
  {
   "cell_type": "markdown",
   "metadata": {},
   "source": [
    "# RESUMEN 1 #\n",
    "\n",
    "## Python has brought computer programming to a vast new audience##\n",
    "\n",
    "El resumen habla acerca de Guido van Rossum el cual tuvo una idea, era crear un lenguaje de programación para personas inexpertas y con necesidades basicas en el lenguaje. la idea principal era que este lenguaje fuera facil de leer,tener sus propios modulos de programación dependiendo de las necesidades que requiera cada usuario y la tercera cosa que buscó para su lenguaje fue un nombre corto y misterioso, con esto nació el lenguaje de programación más famoso en la actualidad.\n",
    "> ¿Qué hace python que otros no?\n",
    "+ facil de leer\n",
    "+ su nivel de complejidad depende de las necesidades de cada persona\n",
    "+ lenguaje mas utilizado en niveles basicos de proogramación \n",
    "\n",
    "En conclusión este resumen nos explica que es lo logro Guido con su idea pero en el mundo actual creó el lenguaje de programación más utilizado y que más ha revolucionado el mundo como lo conocemos.\n",
    "\n",
    "# RESUMEN 2 #\n",
    "\n",
    "## Why Python is so popular with developers: 3 reasons the language has exploded ##\n",
    "\n",
    "En este resumen se habla acerca de como python se ha vuelto una herramienta en todas las empresas por los usos que tiene y toda la optimización de trabajo de las empresas.\n",
    "python ha tenido tanto auge que el lenguaje no solo ha llegado a programadores y empresas que tengan que ver con ellos sino que ahora en escuelas, oficinas y empresas con finanzas han tenido que pasar por el lenguaje.\n",
    "> Cuales son las 3 razones por la cual ha tenido tanta fama el lenguaje:\n",
    "+ faciil de aprender: en base a expertos la manera en la que python se maneja es una facilitación de los usos de la programación en base a métodos los cuales hacen que todas las opciones que requieras sean más prácticos para el uso de las personas.\n",
    "+ una comunidad desarrolladora: debido a que muchas personas utilizan el lenguaje existe una comunidad que ha creado todo tipo de programas y con esto existen muchas formas y ayudas para poder resolver tus dudas\n",
    "+ una explosión de ciencia de datos en la industria: se ha descubierto que miles de personas han hecho machine learning y ciencia de datos en el lenguaje, cosa que antes no se hacia y con esto una revolución en la industria\n",
    "\n",
    "> bibliografía: \n",
    "+ [resumen 1] (https://www.economist.com/science-and-technology/2018/07/19/python-has-brought-computer-programming-to-a-vast-new-audience)\n",
    "+ [resumen 2] (https://www.techrepublic.com/article/why-python-is-so-popular-with-developers-3-reasons-the-language-has-exploded/\n",
    "\n"
   ]
  },
  {
   "cell_type": "code",
   "execution_count": null,
   "metadata": {},
   "outputs": [],
   "source": []
  }
 ],
 "metadata": {
  "kernelspec": {
   "display_name": "Python 3",
   "language": "python",
   "name": "python3"
  },
  "language_info": {
   "codemirror_mode": {
    "name": "ipython",
    "version": 3
   },
   "file_extension": ".py",
   "mimetype": "text/x-python",
   "name": "python",
   "nbconvert_exporter": "python",
   "pygments_lexer": "ipython3",
   "version": "3.7.3"
  }
 },
 "nbformat": 4,
 "nbformat_minor": 2
}
